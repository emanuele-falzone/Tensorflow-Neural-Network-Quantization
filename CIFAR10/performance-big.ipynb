{
 "cells": [
  {
   "cell_type": "markdown",
   "metadata": {},
   "source": [
    "# CIFAR-10 dataset"
   ]
  },
  {
   "cell_type": "markdown",
   "metadata": {},
   "source": [
    "## Save the model directory in an env variable"
   ]
  },
  {
   "cell_type": "code",
   "execution_count": 1,
   "metadata": {},
   "outputs": [],
   "source": [
    "import os\n",
    "\n",
    "#change the directory is needed\n",
    "os.environ['CIFAR10_DIR']='logdir-big/1527108431'"
   ]
  },
  {
   "cell_type": "markdown",
   "metadata": {},
   "source": [
    "## Perform operations on the graph to obtain the quantized model"
   ]
  },
  {
   "cell_type": "markdown",
   "metadata": {},
   "source": [
    "### Freeze the graph"
   ]
  },
  {
   "cell_type": "code",
   "execution_count": 2,
   "metadata": {},
   "outputs": [
    {
     "name": "stdout",
     "output_type": "stream",
     "text": [
      "Converted 16 variables to const ops.\r\n"
     ]
    }
   ],
   "source": [
    "!freeze_graph --input_saved_model_dir=$CIFAR10_DIR --output_graph=$CIFAR10_DIR/frozen.pb \\\n",
    "    --output_node_names=final_result"
   ]
  },
  {
   "cell_type": "markdown",
   "metadata": {},
   "source": [
    "### Optimize the graph"
   ]
  },
  {
   "cell_type": "code",
   "execution_count": 3,
   "metadata": {},
   "outputs": [],
   "source": [
    "!python -m tensorflow.python.tools.optimize_for_inference --input=$CIFAR10_DIR/frozen.pb \\\n",
    "    --output=$CIFAR10_DIR/optimized.pb --input_names=\"input\" --output_names=\"final_result\""
   ]
  },
  {
   "cell_type": "markdown",
   "metadata": {},
   "source": [
    "### Add the optimized graph to Tensorboard"
   ]
  },
  {
   "cell_type": "code",
   "execution_count": 4,
   "metadata": {},
   "outputs": [],
   "source": [
    "!python -m scripts.graph_pb2tb $CIFAR10_DIR $CIFAR10_DIR/optimized.pb"
   ]
  },
  {
   "cell_type": "markdown",
   "metadata": {},
   "source": [
    "### Create the quantized model"
   ]
  },
  {
   "cell_type": "code",
   "execution_count": 5,
   "metadata": {},
   "outputs": [
    {
     "name": "stdout",
     "output_type": "stream",
     "text": [
      "WARNING:tensorflow:From /home/emanuele/Desktop/notebooks/Tensorflow-Neural-Network-Quantization/CIFAR10/scripts/quantize_graph.py:299: quantize_v2 (from tensorflow.python.ops.array_ops) is deprecated and will be removed after 2017-10-25.\r\n",
      "Instructions for updating:\r\n",
      "`tf.quantize_v2` is deprecated, please use `tf.quantize` instead.\r\n"
     ]
    }
   ],
   "source": [
    "!python -m scripts.quantize_graph --input=$CIFAR10_DIR/optimized.pb --output=$CIFAR10_DIR/eightbit.pb \\\n",
    "    --output_node_names=final_result --mode=eightbit"
   ]
  },
  {
   "cell_type": "markdown",
   "metadata": {},
   "source": [
    "## Models size"
   ]
  },
  {
   "cell_type": "code",
   "execution_count": 6,
   "metadata": {},
   "outputs": [
    {
     "name": "stdout",
     "output_type": "stream",
     "text": [
      "55M\tlogdir-big/1527108431/optimized.pb\n",
      "14M\tlogdir-big/1527108431/eightbit.pb\n"
     ]
    }
   ],
   "source": [
    "!du -h $CIFAR10_DIR/optimized.pb\n",
    "!du -h $CIFAR10_DIR/eightbit.pb"
   ]
  },
  {
   "cell_type": "markdown",
   "metadata": {},
   "source": [
    "## Accuracy, Average prediction time and cache utilization"
   ]
  },
  {
   "cell_type": "markdown",
   "metadata": {},
   "source": [
    "### not-quantized model"
   ]
  },
  {
   "cell_type": "code",
   "execution_count": 7,
   "metadata": {},
   "outputs": [
    {
     "name": "stdout",
     "output_type": "stream",
     "text": [
      "Evaluating model with 10000 images\n",
      "               Accuracy: 0.663900000\n",
      "Average prediction time: 0.134832128s\n",
      "Evaluating model with 10000 images\n",
      "               Accuracy: 0.663900000\n",
      "Average prediction time: 0.135666193s\n",
      "Evaluating model with 10000 images\n",
      "               Accuracy: 0.663900000\n",
      "Average prediction time: 0.135170157s\n",
      "Evaluating model with 10000 images\n",
      "               Accuracy: 0.663900000\n",
      "Average prediction time: 0.135303965s\n",
      "Evaluating model with 10000 images\n",
      "               Accuracy: 0.663900000\n",
      "Average prediction time: 0.134883049s\n",
      "Evaluating model with 10000 images\n",
      "               Accuracy: 0.663900000\n",
      "Average prediction time: 0.135358184s\n",
      "Evaluating model with 10000 images\n",
      "               Accuracy: 0.663900000\n",
      "Average prediction time: 0.135794709s\n",
      "Evaluating model with 10000 images\n",
      "               Accuracy: 0.663900000\n",
      "Average prediction time: 0.135445475s\n",
      "Evaluating model with 10000 images\n",
      "               Accuracy: 0.663900000\n",
      "Average prediction time: 0.135532253s\n",
      "Evaluating model with 10000 images\n",
      "               Accuracy: 0.663900000\n",
      "Average prediction time: 0.135938834s\n",
      "\n",
      " Performance counter stats for 'python evaluate.py --graph logdir-big/1527108431/optimized.pb' (10 runs):\n",
      "\n",
      "   107.052.980.654      cache-references                                              ( +-  0,28% )\n",
      "    43.569.278.696      cache-misses              #   40,699 % of all cache refs      ( +-  0,17% )\n",
      "\n",
      "    1383,144418142 seconds time elapsed                                          ( +-  0,09% )\n",
      "\n"
     ]
    }
   ],
   "source": [
    "!perf stat -r 10 -e cache-references,cache-misses python evaluate.py --graph $CIFAR10_DIR/optimized.pb"
   ]
  },
  {
   "cell_type": "markdown",
   "metadata": {},
   "source": [
    "### quantized model"
   ]
  },
  {
   "cell_type": "code",
   "execution_count": 8,
   "metadata": {},
   "outputs": [
    {
     "name": "stdout",
     "output_type": "stream",
     "text": [
      "Evaluating model with 10000 images\n",
      "               Accuracy: 0.657700000\n",
      "Average prediction time: 0.056849577s\n",
      "Evaluating model with 10000 images\n",
      "               Accuracy: 0.657700000\n",
      "Average prediction time: 0.056731763s\n",
      "Evaluating model with 10000 images\n",
      "               Accuracy: 0.657700000\n",
      "Average prediction time: 0.056886843s\n",
      "Evaluating model with 10000 images\n",
      "               Accuracy: 0.657700000\n",
      "Average prediction time: 0.057023433s\n",
      "Evaluating model with 10000 images\n",
      "               Accuracy: 0.657700000\n",
      "Average prediction time: 0.056960484s\n",
      "Evaluating model with 10000 images\n",
      "               Accuracy: 0.657700000\n",
      "Average prediction time: 0.056888494s\n",
      "Evaluating model with 10000 images\n",
      "               Accuracy: 0.657700000\n",
      "Average prediction time: 0.056922880s\n",
      "Evaluating model with 10000 images\n",
      "               Accuracy: 0.657700000\n",
      "Average prediction time: 0.056748064s\n",
      "Evaluating model with 10000 images\n",
      "               Accuracy: 0.657700000\n",
      "Average prediction time: 0.056997140s\n",
      "Evaluating model with 10000 images\n",
      "               Accuracy: 0.657700000\n",
      "Average prediction time: 0.057047107s\n",
      "\n",
      " Performance counter stats for 'python evaluate.py --graph logdir-big/1527108431/eightbit.pb' (10 runs):\n",
      "\n",
      "    65.690.793.332      cache-references                                              ( +-  0,06% )\n",
      "     8.582.394.920      cache-misses              #   13,065 % of all cache refs      ( +-  0,22% )\n",
      "\n",
      "     588,618230162 seconds time elapsed                                          ( +-  0,06% )\n",
      "\n"
     ]
    }
   ],
   "source": [
    "!perf stat -r 10 -e cache-references,cache-misses python evaluate.py --graph $CIFAR10_DIR/eightbit.pb"
   ]
  }
 ],
 "metadata": {
  "kernelspec": {
   "display_name": "Python 2",
   "language": "python",
   "name": "python2"
  },
  "language_info": {
   "codemirror_mode": {
    "name": "ipython",
    "version": 2
   },
   "file_extension": ".py",
   "mimetype": "text/x-python",
   "name": "python",
   "nbconvert_exporter": "python",
   "pygments_lexer": "ipython2",
   "version": "2.7.12"
  }
 },
 "nbformat": 4,
 "nbformat_minor": 2
}
