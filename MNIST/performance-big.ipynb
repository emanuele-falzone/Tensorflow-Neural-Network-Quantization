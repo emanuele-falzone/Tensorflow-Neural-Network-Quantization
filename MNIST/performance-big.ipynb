{
 "cells": [
  {
   "cell_type": "markdown",
   "metadata": {},
   "source": [
    "# MNIST dataset - Model (b)"
   ]
  },
  {
   "cell_type": "markdown",
   "metadata": {},
   "source": [
    "## Save the model directory in an env variable"
   ]
  },
  {
   "cell_type": "code",
   "execution_count": 1,
   "metadata": {},
   "outputs": [],
   "source": [
    "import os\n",
    "\n",
    "#change the directory is needed\n",
    "os.environ['MNIST_DIR']='logdir-big/1527105285'"
   ]
  },
  {
   "cell_type": "markdown",
   "metadata": {},
   "source": [
    "## Perform operations on the graph to obtain the quantized model"
   ]
  },
  {
   "cell_type": "markdown",
   "metadata": {},
   "source": [
    "### Freeze the graph"
   ]
  },
  {
   "cell_type": "code",
   "execution_count": 2,
   "metadata": {},
   "outputs": [
    {
     "name": "stdout",
     "output_type": "stream",
     "text": [
      "Converted 10 variables to const ops.\r\n"
     ]
    }
   ],
   "source": [
    "!freeze_graph --input_saved_model_dir=$MNIST_DIR --output_graph=$MNIST_DIR/frozen.pb \\\n",
    "    --output_node_names=final_result"
   ]
  },
  {
   "cell_type": "markdown",
   "metadata": {},
   "source": [
    "### Optimize the graph"
   ]
  },
  {
   "cell_type": "code",
   "execution_count": 3,
   "metadata": {},
   "outputs": [],
   "source": [
    "!python -m tensorflow.python.tools.optimize_for_inference --input=$MNIST_DIR/frozen.pb \\\n",
    "    --output=$MNIST_DIR/optimized.pb --input_names=\"input\" --output_names=\"final_result\""
   ]
  },
  {
   "cell_type": "markdown",
   "metadata": {},
   "source": [
    "### Add the optimized graph to Tensorboard"
   ]
  },
  {
   "cell_type": "code",
   "execution_count": 4,
   "metadata": {},
   "outputs": [],
   "source": [
    "!python -m scripts.graph_pb2tb $MNIST_DIR $MNIST_DIR/optimized.pb"
   ]
  },
  {
   "cell_type": "markdown",
   "metadata": {},
   "source": [
    "### Create the quantized model"
   ]
  },
  {
   "cell_type": "code",
   "execution_count": 5,
   "metadata": {},
   "outputs": [
    {
     "name": "stdout",
     "output_type": "stream",
     "text": [
      "WARNING:tensorflow:From /home/emanuele/Desktop/notebooks/Tensorflow-Neural-Network-Quantization/MNIST/scripts/quantize_graph.py:299: quantize_v2 (from tensorflow.python.ops.array_ops) is deprecated and will be removed after 2017-10-25.\r\n",
      "Instructions for updating:\r\n",
      "`tf.quantize_v2` is deprecated, please use `tf.quantize` instead.\r\n"
     ]
    }
   ],
   "source": [
    "!python -m scripts.quantize_graph --input=$MNIST_DIR/optimized.pb --output=$MNIST_DIR/eightbit.pb \\\n",
    "    --output_node_names=final_result --mode=eightbit"
   ]
  },
  {
   "cell_type": "markdown",
   "metadata": {},
   "source": [
    "## Models size"
   ]
  },
  {
   "cell_type": "code",
   "execution_count": 6,
   "metadata": {},
   "outputs": [
    {
     "name": "stdout",
     "output_type": "stream",
     "text": [
      "17M\tlogdir-big/1527105285/optimized.pb\n",
      "4,2M\tlogdir-big/1527105285/eightbit.pb\n"
     ]
    }
   ],
   "source": [
    "!du -h $MNIST_DIR/optimized.pb\n",
    "!du -h $MNIST_DIR/eightbit.pb"
   ]
  },
  {
   "cell_type": "markdown",
   "metadata": {},
   "source": [
    "## Accuracy, Average prediction time and cache utilization"
   ]
  },
  {
   "cell_type": "markdown",
   "metadata": {},
   "source": [
    "### not-quantized model"
   ]
  },
  {
   "cell_type": "code",
   "execution_count": 7,
   "metadata": {},
   "outputs": [
    {
     "name": "stdout",
     "output_type": "stream",
     "text": [
      "Evaluating model with 10000 images\n",
      "               Accuracy: 0.970700000\n",
      "Average prediction time: 0.045599289s\n",
      "Evaluating model with 10000 images\n",
      "               Accuracy: 0.970700000\n",
      "Average prediction time: 0.045623444s\n",
      "Evaluating model with 10000 images\n",
      "               Accuracy: 0.970700000\n",
      "Average prediction time: 0.045607831s\n",
      "Evaluating model with 10000 images\n",
      "               Accuracy: 0.970700000\n",
      "Average prediction time: 0.045627524s\n",
      "Evaluating model with 10000 images\n",
      "               Accuracy: 0.970700000\n",
      "Average prediction time: 0.045926844s\n",
      "Evaluating model with 10000 images\n",
      "               Accuracy: 0.970700000\n",
      "Average prediction time: 0.045891503s\n",
      "Evaluating model with 10000 images\n",
      "               Accuracy: 0.970700000\n",
      "Average prediction time: 0.045646695s\n",
      "Evaluating model with 10000 images\n",
      "               Accuracy: 0.970700000\n",
      "Average prediction time: 0.045836357s\n",
      "Evaluating model with 10000 images\n",
      "               Accuracy: 0.970700000\n",
      "Average prediction time: 0.045856990s\n",
      "Evaluating model with 10000 images\n",
      "               Accuracy: 0.970700000\n",
      "Average prediction time: 0.045894436s\n",
      "\n",
      " Performance counter stats for 'python evaluate.py --graph logdir-big/1527105285/optimized.pb' (10 runs):\n",
      "\n",
      "    34.468.372.481      cache-references                                              ( +-  0,12% )\n",
      "    13.037.404.934      cache-misses              #   37,824 % of all cache refs      ( +-  0,24% )\n",
      "\n",
      "     470,898235722 seconds time elapsed                                          ( +-  0,12% )\n",
      "\n"
     ]
    }
   ],
   "source": [
    "!perf stat -r 10 -e cache-references,cache-misses python evaluate.py --graph $MNIST_DIR/optimized.pb"
   ]
  },
  {
   "cell_type": "markdown",
   "metadata": {},
   "source": [
    "### quantized model"
   ]
  },
  {
   "cell_type": "code",
   "execution_count": 8,
   "metadata": {},
   "outputs": [
    {
     "name": "stdout",
     "output_type": "stream",
     "text": [
      "Evaluating model with 10000 images\n",
      "               Accuracy: 0.970300000\n",
      "Average prediction time: 0.030398592s\n",
      "Evaluating model with 10000 images\n",
      "               Accuracy: 0.970300000\n",
      "Average prediction time: 0.030457006s\n",
      "Evaluating model with 10000 images\n",
      "               Accuracy: 0.970300000\n",
      "Average prediction time: 0.030444660s\n",
      "Evaluating model with 10000 images\n",
      "               Accuracy: 0.970300000\n",
      "Average prediction time: 0.030477731s\n",
      "Evaluating model with 10000 images\n",
      "               Accuracy: 0.970300000\n",
      "Average prediction time: 0.030493955s\n",
      "Evaluating model with 10000 images\n",
      "               Accuracy: 0.970300000\n",
      "Average prediction time: 0.030466849s\n",
      "Evaluating model with 10000 images\n",
      "               Accuracy: 0.970300000\n",
      "Average prediction time: 0.030454842s\n",
      "Evaluating model with 10000 images\n",
      "               Accuracy: 0.970300000\n",
      "Average prediction time: 0.030483062s\n",
      "Evaluating model with 10000 images\n",
      "               Accuracy: 0.970300000\n",
      "Average prediction time: 0.030456071s\n",
      "Evaluating model with 10000 images\n",
      "               Accuracy: 0.970300000\n",
      "Average prediction time: 0.030441973s\n",
      "\n",
      " Performance counter stats for 'python evaluate.py --graph logdir-big/1527105285/eightbit.pb' (10 runs):\n",
      "\n",
      "    21.976.396.280      cache-references                                              ( +-  0,05% )\n",
      "     2.684.407.240      cache-misses              #   12,215 % of all cache refs      ( +-  0,18% )\n",
      "\n",
      "     316,162654750 seconds time elapsed                                          ( +-  0,03% )\n",
      "\n"
     ]
    }
   ],
   "source": [
    "!perf stat -r 10 -e cache-references,cache-misses python evaluate.py --graph $MNIST_DIR/eightbit.pb"
   ]
  }
 ],
 "metadata": {
  "kernelspec": {
   "display_name": "Python 2",
   "language": "python",
   "name": "python2"
  },
  "language_info": {
   "codemirror_mode": {
    "name": "ipython",
    "version": 2
   },
   "file_extension": ".py",
   "mimetype": "text/x-python",
   "name": "python",
   "nbconvert_exporter": "python",
   "pygments_lexer": "ipython2",
   "version": "2.7.12"
  }
 },
 "nbformat": 4,
 "nbformat_minor": 2
}
