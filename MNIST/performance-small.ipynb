{
 "cells": [
  {
   "cell_type": "markdown",
   "metadata": {},
   "source": [
    "# MNIST dataset -  Model (a)"
   ]
  },
  {
   "cell_type": "markdown",
   "metadata": {},
   "source": [
    "## Save the model directory in an env variable"
   ]
  },
  {
   "cell_type": "code",
   "execution_count": 1,
   "metadata": {},
   "outputs": [],
   "source": [
    "import os\n",
    "\n",
    "#change the directory is needed\n",
    "os.environ['MNIST_DIR']='logdir-small/1527078887'"
   ]
  },
  {
   "cell_type": "markdown",
   "metadata": {},
   "source": [
    "## Perform operations on the graph to obtain the quantized model"
   ]
  },
  {
   "cell_type": "markdown",
   "metadata": {},
   "source": [
    "### Freeze the graph"
   ]
  },
  {
   "cell_type": "code",
   "execution_count": 2,
   "metadata": {},
   "outputs": [
    {
     "name": "stdout",
     "output_type": "stream",
     "text": [
      "Converted 8 variables to const ops.\r\n"
     ]
    }
   ],
   "source": [
    "!freeze_graph --input_saved_model_dir=$MNIST_DIR --output_graph=$MNIST_DIR/frozen.pb \\\n",
    "    --output_node_names=final_result"
   ]
  },
  {
   "cell_type": "markdown",
   "metadata": {},
   "source": [
    "### Optimize the graph"
   ]
  },
  {
   "cell_type": "code",
   "execution_count": 3,
   "metadata": {},
   "outputs": [],
   "source": [
    "!python -m tensorflow.python.tools.optimize_for_inference --input=$MNIST_DIR/frozen.pb \\\n",
    "    --output=$MNIST_DIR/optimized.pb --input_names=\"input\" --output_names=\"final_result\""
   ]
  },
  {
   "cell_type": "markdown",
   "metadata": {},
   "source": [
    "### Add the optimized graph to Tensorboard"
   ]
  },
  {
   "cell_type": "code",
   "execution_count": 4,
   "metadata": {},
   "outputs": [],
   "source": [
    "!python -m scripts.graph_pb2tb $MNIST_DIR $MNIST_DIR/optimized.pb"
   ]
  },
  {
   "cell_type": "markdown",
   "metadata": {},
   "source": [
    "### Create the quantized model"
   ]
  },
  {
   "cell_type": "code",
   "execution_count": 5,
   "metadata": {},
   "outputs": [
    {
     "name": "stdout",
     "output_type": "stream",
     "text": [
      "WARNING:tensorflow:From /home/emanuele/Desktop/notebooks/Tensorflow-Neural-Network-Quantization/MNIST/scripts/quantize_graph.py:299: quantize_v2 (from tensorflow.python.ops.array_ops) is deprecated and will be removed after 2017-10-25.\r\n",
      "Instructions for updating:\r\n",
      "`tf.quantize_v2` is deprecated, please use `tf.quantize` instead.\r\n"
     ]
    }
   ],
   "source": [
    "!python -m scripts.quantize_graph --input=$MNIST_DIR/optimized.pb --output=$MNIST_DIR/eightbit.pb \\\n",
    "    --output_node_names=final_result --mode=eightbit"
   ]
  },
  {
   "cell_type": "markdown",
   "metadata": {},
   "source": [
    "## Models size"
   ]
  },
  {
   "cell_type": "code",
   "execution_count": 6,
   "metadata": {},
   "outputs": [
    {
     "name": "stdout",
     "output_type": "stream",
     "text": [
      "13M\tlogdir/1527078887/optimized.pb\n",
      "3,2M\tlogdir/1527078887/eightbit.pb\n"
     ]
    }
   ],
   "source": [
    "!du -h $MNIST_DIR/optimized.pb\n",
    "!du -h $MNIST_DIR/eightbit.pb"
   ]
  },
  {
   "cell_type": "markdown",
   "metadata": {},
   "source": [
    "## Accuracy, Average prediction time and cache utilization"
   ]
  },
  {
   "cell_type": "markdown",
   "metadata": {},
   "source": [
    "### not-quantized model"
   ]
  },
  {
   "cell_type": "code",
   "execution_count": 7,
   "metadata": {},
   "outputs": [
    {
     "name": "stdout",
     "output_type": "stream",
     "text": [
      "Evaluating model with 10000 images\n",
      "               Accuracy: 0.969300000\n",
      "Average prediction time: 0.036997052s\n",
      "Evaluating model with 10000 images\n",
      "               Accuracy: 0.969300000\n",
      "Average prediction time: 0.037255128s\n",
      "Evaluating model with 10000 images\n",
      "               Accuracy: 0.969300000\n",
      "Average prediction time: 0.037091749s\n",
      "Evaluating model with 10000 images\n",
      "               Accuracy: 0.969300000\n",
      "Average prediction time: 0.037064966s\n",
      "Evaluating model with 10000 images\n",
      "               Accuracy: 0.969300000\n",
      "Average prediction time: 0.037035170s\n",
      "Evaluating model with 10000 images\n",
      "               Accuracy: 0.969300000\n",
      "Average prediction time: 0.037089513s\n",
      "Evaluating model with 10000 images\n",
      "               Accuracy: 0.969300000\n",
      "Average prediction time: 0.037170610s\n",
      "Evaluating model with 10000 images\n",
      "               Accuracy: 0.969300000\n",
      "Average prediction time: 0.037071319s\n",
      "Evaluating model with 10000 images\n",
      "               Accuracy: 0.969300000\n",
      "Average prediction time: 0.037408445s\n",
      "Evaluating model with 10000 images\n",
      "               Accuracy: 0.969300000\n",
      "Average prediction time: 0.036961954s\n",
      "\n",
      " Performance counter stats for 'python evaluate.py --graph logdir/1527078887/optimized.pb' (10 runs):\n",
      "\n",
      "    26.586.208.717      cache-references                                              ( +-  0,17% )\n",
      "    10.658.337.654      cache-misses              #   40,090 % of all cache refs      ( +-  0,26% )\n",
      "\n",
      "     382,598642825 seconds time elapsed                                          ( +-  0,13% )\n",
      "\n"
     ]
    }
   ],
   "source": [
    "!perf stat -r 10 -e cache-references,cache-misses python evaluate.py --graph $MNIST_DIR/optimized.pb"
   ]
  },
  {
   "cell_type": "markdown",
   "metadata": {},
   "source": [
    "### quantized model"
   ]
  },
  {
   "cell_type": "code",
   "execution_count": 8,
   "metadata": {},
   "outputs": [
    {
     "name": "stdout",
     "output_type": "stream",
     "text": [
      "Evaluating model with 10000 images\n",
      "               Accuracy: 0.969400000\n",
      "Average prediction time: 0.025827499s\n",
      "Evaluating model with 10000 images\n",
      "               Accuracy: 0.969400000\n",
      "Average prediction time: 0.025901107s\n",
      "Evaluating model with 10000 images\n",
      "               Accuracy: 0.969400000\n",
      "Average prediction time: 0.025754356s\n",
      "Evaluating model with 10000 images\n",
      "               Accuracy: 0.969400000\n",
      "Average prediction time: 0.025765388s\n",
      "Evaluating model with 10000 images\n",
      "               Accuracy: 0.969400000\n",
      "Average prediction time: 0.025858465s\n",
      "Evaluating model with 10000 images\n",
      "               Accuracy: 0.969400000\n",
      "Average prediction time: 0.025772788s\n",
      "Evaluating model with 10000 images\n",
      "               Accuracy: 0.969400000\n",
      "Average prediction time: 0.025842326s\n",
      "Evaluating model with 10000 images\n",
      "               Accuracy: 0.969400000\n",
      "Average prediction time: 0.025764791s\n",
      "Evaluating model with 10000 images\n",
      "               Accuracy: 0.969400000\n",
      "Average prediction time: 0.025918907s\n",
      "Evaluating model with 10000 images\n",
      "               Accuracy: 0.969400000\n",
      "Average prediction time: 0.025836649s\n",
      "\n",
      " Performance counter stats for 'python evaluate.py --graph logdir/1527078887/eightbit.pb' (10 runs):\n",
      "\n",
      "    17.392.550.365      cache-references                                              ( +-  0,05% )\n",
      "     2.118.850.117      cache-misses              #   12,183 % of all cache refs      ( +-  0,25% )\n",
      "\n",
      "     268,103585926 seconds time elapsed                                          ( +-  0,07% )\n",
      "\n"
     ]
    }
   ],
   "source": [
    "!perf stat -r 10 -e cache-references,cache-misses python evaluate.py --graph $MNIST_DIR/eightbit.pb"
   ]
  }
 ],
 "metadata": {
  "kernelspec": {
   "display_name": "Python 2",
   "language": "python",
   "name": "python2"
  },
  "language_info": {
   "codemirror_mode": {
    "name": "ipython",
    "version": 2
   },
   "file_extension": ".py",
   "mimetype": "text/x-python",
   "name": "python",
   "nbconvert_exporter": "python",
   "pygments_lexer": "ipython2",
   "version": "2.7.12"
  }
 },
 "nbformat": 4,
 "nbformat_minor": 2
}
