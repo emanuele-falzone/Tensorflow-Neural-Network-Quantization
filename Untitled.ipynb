{
 "cells": [
  {
   "cell_type": "code",
   "execution_count": 3,
   "metadata": {},
   "outputs": [
    {
     "name": "stderr",
     "output_type": "stream",
     "text": [
      "/usr/local/lib/python2.7/dist-packages/h5py/__init__.py:36: FutureWarning: Conversion of the second argument of issubdtype from `float` to `np.floating` is deprecated. In future, it will be treated as `np.float64 == np.dtype(float).type`.\n",
      "  from ._conv import register_converters as _register_converters\n"
     ]
    },
    {
     "ename": "NameError",
     "evalue": "name 't' is not defined",
     "output_type": "error",
     "traceback": [
      "\u001b[0;31m\u001b[0m",
      "\u001b[0;31mNameError\u001b[0mTraceback (most recent call last)",
      "\u001b[0;32m<ipython-input-3-be268d0f6243>\u001b[0m in \u001b[0;36m<module>\u001b[0;34m()\u001b[0m\n\u001b[1;32m     27\u001b[0m     \u001b[0mstart\u001b[0m \u001b[0;34m=\u001b[0m \u001b[0mtime\u001b[0m\u001b[0;34m.\u001b[0m\u001b[0mtime\u001b[0m\u001b[0;34m(\u001b[0m\u001b[0;34m)\u001b[0m\u001b[0;34m\u001b[0m\u001b[0m\n\u001b[1;32m     28\u001b[0m     results = sess.run(output_operation.outputs[0],\n\u001b[0;32m---> 29\u001b[0;31m                   {input_operation.outputs[0]: t})\n\u001b[0m\u001b[1;32m     30\u001b[0m     \u001b[0mend\u001b[0m\u001b[0;34m=\u001b[0m\u001b[0mtime\u001b[0m\u001b[0;34m.\u001b[0m\u001b[0mtime\u001b[0m\u001b[0;34m(\u001b[0m\u001b[0;34m)\u001b[0m\u001b[0;34m\u001b[0m\u001b[0m\n\u001b[1;32m     31\u001b[0m \u001b[0mresults\u001b[0m \u001b[0;34m=\u001b[0m \u001b[0mnp\u001b[0m\u001b[0;34m.\u001b[0m\u001b[0msqueeze\u001b[0m\u001b[0;34m(\u001b[0m\u001b[0mresults\u001b[0m\u001b[0;34m)\u001b[0m\u001b[0;34m\u001b[0m\u001b[0m\n",
      "\u001b[0;31mNameError\u001b[0m: name 't' is not defined"
     ]
    }
   ],
   "source": [
    "import tensorflow as tf\n",
    "import numpy as np\n",
    "import time\n",
    "\n",
    "model_file = \"logdir/1526476858/eightbit.pb\"\n",
    "\n",
    "def load_graph(model_file):\n",
    "    graph = tf.Graph()\n",
    "    graph_def = tf.GraphDef()\n",
    "\n",
    "    with open(model_file, \"rb\") as f:\n",
    "        graph_def.ParseFromString(f.read())\n",
    "    with graph.as_default():\n",
    "        tf.import_graph_def(graph_def)\n",
    "\n",
    "    return graph\n",
    "\n",
    "graph = load_graph(model_file)\n",
    "\n",
    "input_name = \"import/Placeholder\"\n",
    "output_name = \"import/final_result\"\n",
    "\n",
    "input_operation = graph.get_operation_by_name(input_name);\n",
    "output_operation = graph.get_operation_by_name(output_name);\n",
    "\n",
    "with tf.Session(graph=graph) as sess:\n",
    "    start = time.time()\n",
    "    results = sess.run(output_operation.outputs[0],\n",
    "                  {input_operation.outputs[0]: t})\n",
    "    end=time.time()\n",
    "results = np.squeeze(results)\n",
    "\n",
    "print('Evaluation time: {:.9f}s\\n'.format(end-start))\n",
    "\n",
    "top_k = results.argsort()[-5:][::-1]\n",
    "\n",
    "for i in top_k:\n",
    "    print(i, results[i])"
   ]
  },
  {
   "cell_type": "code",
   "execution_count": 7,
   "metadata": {},
   "outputs": [],
   "source": [
    "import numpy as np\n",
    "import tensorflow as tf\n",
    "\n",
    "file_name=\"MNIST-data-png/testing/0/3.png\"\n",
    "\n",
    "input_name = \"file_reader\"\n",
    "output_name = \"normalized\"\n",
    "\n",
    "file_reader = tf.read_file(file_name, input_name)\n",
    "\n",
    "image_reader = tf.image.decode_png(file_reader, channels = 1, name='png_reader')\n",
    "\n",
    "float_caster = tf.cast(image_reader, tf.float32)\n",
    "dims_expander = tf.expand_dims(float_caster, 0);\n",
    "resized = tf.image.resize_bilinear(dims_expander, [28, 28])\n",
    "normalized = tf.divide(tf.subtract(resized, [0]), [255])\n",
    "sess = tf.Session()\n",
    "result = sess.run(normalized)\n"
   ]
  },
  {
   "cell_type": "code",
   "execution_count": 8,
   "metadata": {},
   "outputs": [
    {
     "data": {
      "text/plain": [
       "(1, 28, 28, 1)"
      ]
     },
     "execution_count": 8,
     "metadata": {},
     "output_type": "execute_result"
    }
   ],
   "source": [
    "result.shape"
   ]
  },
  {
   "cell_type": "code",
   "execution_count": 9,
   "metadata": {},
   "outputs": [
    {
     "data": {
      "image/png": "[encoded data removed]",
      "text/plain": [
       "<Figure size 432x288 with 1 Axes>"
      ]
     },
     "metadata": {},
     "output_type": "display_data"
    }
   ],
   "source": [
    "# Evaluate a sample image and display it\n",
    "import matplotlib.pyplot as plt\n",
    "\n",
    "%matplotlib inline\n",
    "\n",
    "# To interpret the values as a 28x28 image, we need to reshape\n",
    "# the numpy array, which is one dimensional.\n",
    "plt.imshow(result.reshape(28, 28), cmap=plt.cm.Greys);\n"
   ]
  },
  {
   "cell_type": "code",
   "execution_count": null,
   "metadata": {},
   "outputs": [],
   "source": []
  }
 ],
 "metadata": {
  "kernelspec": {
   "display_name": "Python 2",
   "language": "python",
   "name": "python2"
  },
  "language_info": {
   "codemirror_mode": {
    "name": "ipython",
    "version": 2
   },
   "file_extension": ".py",
   "mimetype": "text/x-python",
   "name": "python",
   "nbconvert_exporter": "python",
   "pygments_lexer": "ipython2",
   "version": "2.7.12"
  }
 },
 "nbformat": 4,
 "nbformat_minor": 2
}
